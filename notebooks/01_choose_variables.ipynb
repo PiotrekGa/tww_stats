{
 "cells": [
  {
   "cell_type": "code",
   "execution_count": 1,
   "metadata": {},
   "outputs": [],
   "source": [
    "import pandas as pd\n",
    "import numpy as np\n",
    "import seaborn as sns\n",
    "from sklearn.model_selection import KFold\n",
    "from sklearn.pipeline import make_union, make_pipeline\n",
    "from sklearn.preprocessing import OneHotEncoder\n",
    "from sklearn.base import TransformerMixin\n",
    "from sklearn.model_selection import cross_val_score\n",
    "\n",
    "from lightgbm import LGBMRegressor\n",
    "import optuna\n",
    "\n",
    "from twws.select_variables import Selector, get_units_only\n",
    "from twws.variables_list import category_columns, non_object_columns\n",
    "\n",
    "pd.set_option('display.max_rows', None)"
   ]
  },
  {
   "cell_type": "code",
   "execution_count": 2,
   "metadata": {},
   "outputs": [
    {
     "name": "stderr",
     "output_type": "stream",
     "text": [
      "/Users/piotr.gabrys/.local/share/virtualenvs/tww_stats-PBBeHRjs/lib/python3.8/site-packages/IPython/core/interactiveshell.py:3145: DtypeWarning: Columns (617) have mixed types.Specify dtype option on import or set low_memory=False.\n",
      "  has_raised = await self.run_ast_nodes(code_ast.body, cell_name,\n"
     ]
    }
   ],
   "source": [
    "df = pd.read_csv('../data/data.csv')"
   ]
  },
  {
   "cell_type": "code",
   "execution_count": 3,
   "metadata": {},
   "outputs": [],
   "source": [
    "df = get_units_only(df)"
   ]
  },
  {
   "cell_type": "code",
   "execution_count": 4,
   "metadata": {},
   "outputs": [
    {
     "data": {
      "text/plain": [
       "(556, 620)"
      ]
     },
     "execution_count": 4,
     "metadata": {},
     "output_type": "execute_result"
    }
   ],
   "source": [
    "df.shape"
   ]
  },
  {
   "cell_type": "code",
   "execution_count": 5,
   "metadata": {},
   "outputs": [],
   "source": [
    "df.missile_primary__ignition_amount = df.missile_primary__ignition_amount.map({'True': 1, '0': 0, '25': 25})"
   ]
  },
  {
   "cell_type": "code",
   "execution_count": 6,
   "metadata": {},
   "outputs": [],
   "source": [
    "for col in non_object_columns:\n",
    "    df[col] = df[col] * 1\n",
    "    df[col] = df[col].fillna(-1)"
   ]
  },
  {
   "cell_type": "code",
   "execution_count": 7,
   "metadata": {},
   "outputs": [],
   "source": [
    "for col in category_columns:\n",
    "    df[col] = df[col].fillna('missing')"
   ]
  },
  {
   "cell_type": "code",
   "execution_count": 8,
   "metadata": {},
   "outputs": [],
   "source": [
    "df = df.loc[:, non_object_columns + category_columns + ['name']]"
   ]
  },
  {
   "cell_type": "code",
   "execution_count": 9,
   "metadata": {},
   "outputs": [],
   "source": [
    "df = df.sample(frac=1)"
   ]
  },
  {
   "cell_type": "code",
   "execution_count": 10,
   "metadata": {},
   "outputs": [
    {
     "data": {
      "text/plain": [
       "(556, 466)"
      ]
     },
     "execution_count": 10,
     "metadata": {},
     "output_type": "execute_result"
    }
   ],
   "source": [
    "df.shape"
   ]
  },
  {
   "cell_type": "code",
   "execution_count": 67,
   "metadata": {},
   "outputs": [],
   "source": [
    "y = df.multiplayer_cost.apply(np.log)\n",
    "x = df.drop('multiplayer_cost', axis=1)"
   ]
  },
  {
   "cell_type": "code",
   "execution_count": 12,
   "metadata": {},
   "outputs": [],
   "source": [
    "columns_to_remove = ['multiplayer_cost',                       \n",
    "                     'speed',\n",
    "                     'charge_speed', \n",
    "                     'missile_primary__total_accuracy',\n",
    "                     'knock_interrupts_ignore_chance',\n",
    "                     'missile_primary__reload_time',\n",
    "                     'missile_primary__ammo',\n",
    "                     'deceleration',\n",
    "                     'unit_size',\n",
    "                     'melee__ap_damage']"
   ]
  },
  {
   "cell_type": "code",
   "execution_count": 13,
   "metadata": {},
   "outputs": [],
   "source": [
    "for col in columns_to_remove:\n",
    "    non_object_columns.remove(col)"
   ]
  },
  {
   "cell_type": "code",
   "execution_count": 14,
   "metadata": {},
   "outputs": [],
   "source": [
    "model = make_pipeline(\n",
    "    make_union(\n",
    "        Selector(non_object_columns), \n",
    "        make_pipeline(\n",
    "            Selector(category_columns), \n",
    "            OneHotEncoder(handle_unknown='ignore')\n",
    "        )\n",
    "    ),\n",
    "    LGBMRegressor(objective='mae')\n",
    ")"
   ]
  },
  {
   "cell_type": "code",
   "execution_count": 15,
   "metadata": {},
   "outputs": [],
   "source": [
    "def objective(trial):    \n",
    "        \n",
    "    lgbmregressor__num_leaves = trial.suggest_int('lgbmregressor__num_leaves', 2, 500) \n",
    "    lgbmregressor__max_depth = trial.suggest_int('lgbmregressor__max_depth', 2, 150) \n",
    "    lgbmregressor__n_estimators = trial.suggest_int('lgbmregressor__n_estimators', 10, 500) \n",
    "    lgbmregressor__subsample_for_bin = trial.suggest_int('lgbmregressor__subsample_for_bin', 2000, 500_000) \n",
    "    lgbmregressor__min_child_samples = trial.suggest_int('lgbmregressor__min_child_samples', 4, 500) \n",
    "    lgbmregressor__reg_alpha = trial.suggest_uniform('lgbmregressor__reg_alpha', 0.0, 1.0) \n",
    "    lgbmregressor__colsample_bytree = trial.suggest_uniform('lgbmregressor__colsample_bytree', 0.6, 1.0) \n",
    "    lgbmregressor__learning_rate = trial.suggest_loguniform('lgbmregressor__learning_rate', 1e-5, 1e-0)   \n",
    "    \n",
    "\n",
    "    params = {\n",
    "        'lgbmregressor__num_leaves': lgbmregressor__num_leaves,\n",
    "        'lgbmregressor__max_depth': lgbmregressor__max_depth,\n",
    "        'lgbmregressor__n_estimators': lgbmregressor__n_estimators,\n",
    "        'lgbmregressor__subsample_for_bin': lgbmregressor__subsample_for_bin,\n",
    "        'lgbmregressor__min_child_samples': lgbmregressor__min_child_samples,\n",
    "        'lgbmregressor__reg_alpha': lgbmregressor__reg_alpha,\n",
    "        'lgbmregressor__colsample_bytree': lgbmregressor__colsample_bytree,\n",
    "        'lgbmregressor__learning_rate': lgbmregressor__learning_rate\n",
    "    }\n",
    "    \n",
    "    model.set_params(**params)\n",
    "    \n",
    "    cv = KFold(n_splits=8)\n",
    "\n",
    "    return - np.mean(cross_val_score(model, x, y, cv=8, scoring='neg_median_absolute_error'))"
   ]
  },
  {
   "cell_type": "code",
   "execution_count": 66,
   "metadata": {},
   "outputs": [],
   "source": [
    "study = optuna.create_study()\n",
    "# study.optimize(objective, n_trials=100)"
   ]
  },
  {
   "cell_type": "code",
   "execution_count": 17,
   "metadata": {},
   "outputs": [
    {
     "data": {
      "text/plain": [
       "Pipeline(steps=[('featureunion',\n",
       "                 FeatureUnion(transformer_list=[('selector',\n",
       "                                                 <twws.select_variables.Selector object at 0x1376997c0>),\n",
       "                                                ('pipeline',\n",
       "                                                 Pipeline(steps=[('selector',\n",
       "                                                                  <twws.select_variables.Selector object at 0x137699880>),\n",
       "                                                                 ('onehotencoder',\n",
       "                                                                  OneHotEncoder(handle_unknown='ignore'))]))])),\n",
       "                ('lgbmregressor',\n",
       "                 LGBMRegressor(colsample_bytree=0.913054828956877,\n",
       "                               learning_rate=0.10252419123041778, max_depth=82,\n",
       "                               min_child_samples=4, n_estimators=372,\n",
       "                               num_leaves=298, objective='mae',\n",
       "                               reg_alpha=0.7319559692316774,\n",
       "                               subsample_for_bin=30169))])"
      ]
     },
     "execution_count": 17,
     "metadata": {},
     "output_type": "execute_result"
    }
   ],
   "source": [
    "model.set_params(**study.best_params)"
   ]
  },
  {
   "cell_type": "code",
   "execution_count": 18,
   "metadata": {},
   "outputs": [
    {
     "data": {
      "text/plain": [
       "Pipeline(steps=[('featureunion',\n",
       "                 FeatureUnion(transformer_list=[('selector',\n",
       "                                                 <twws.select_variables.Selector object at 0x1376997c0>),\n",
       "                                                ('pipeline',\n",
       "                                                 Pipeline(steps=[('selector',\n",
       "                                                                  <twws.select_variables.Selector object at 0x137699880>),\n",
       "                                                                 ('onehotencoder',\n",
       "                                                                  OneHotEncoder(handle_unknown='ignore'))]))])),\n",
       "                ('lgbmregressor',\n",
       "                 LGBMRegressor(colsample_bytree=0.913054828956877,\n",
       "                               learning_rate=0.10252419123041778, max_depth=82,\n",
       "                               min_child_samples=4, n_estimators=372,\n",
       "                               num_leaves=298, objective='mae',\n",
       "                               reg_alpha=0.7319559692316774,\n",
       "                               subsample_for_bin=30169))])"
      ]
     },
     "execution_count": 18,
     "metadata": {},
     "output_type": "execute_result"
    }
   ],
   "source": [
    "model.fit(x, y)"
   ]
  },
  {
   "cell_type": "code",
   "execution_count": 19,
   "metadata": {},
   "outputs": [],
   "source": [
    "est = model.named_steps['lgbmregressor']"
   ]
  },
  {
   "cell_type": "code",
   "execution_count": 20,
   "metadata": {},
   "outputs": [
    {
     "data": {
      "text/plain": [
       "493"
      ]
     },
     "execution_count": 20,
     "metadata": {},
     "output_type": "execute_result"
    }
   ],
   "source": [
    "len(est.feature_importances_)"
   ]
  },
  {
   "cell_type": "code",
   "execution_count": 21,
   "metadata": {},
   "outputs": [
    {
     "data": {
      "text/plain": [
       "455"
      ]
     },
     "execution_count": 21,
     "metadata": {},
     "output_type": "execute_result"
    }
   ],
   "source": [
    "len(category_columns + non_object_columns)"
   ]
  },
  {
   "cell_type": "code",
   "execution_count": 22,
   "metadata": {},
   "outputs": [],
   "source": [
    "ohe = model.named_steps['featureunion'].transformer_list[1][1].named_steps['onehotencoder']"
   ]
  },
  {
   "cell_type": "code",
   "execution_count": 23,
   "metadata": {},
   "outputs": [],
   "source": [
    "features = non_object_columns + list(ohe.get_feature_names())"
   ]
  },
  {
   "cell_type": "code",
   "execution_count": 24,
   "metadata": {},
   "outputs": [],
   "source": [
    "feature_importances = pd.DataFrame(features, columns=['features'])"
   ]
  },
  {
   "cell_type": "code",
   "execution_count": 25,
   "metadata": {},
   "outputs": [],
   "source": [
    "feature_importances['importance'] = est.feature_importances_"
   ]
  },
  {
   "cell_type": "code",
   "execution_count": 26,
   "metadata": {},
   "outputs": [],
   "source": [
    "feature_importances.sort_values(by='importance', ascending=False, inplace=True)"
   ]
  },
  {
   "cell_type": "code",
   "execution_count": 27,
   "metadata": {},
   "outputs": [],
   "source": [
    "feature_importances = feature_importances.loc[feature_importances.importance > 100, :]"
   ]
  },
  {
   "cell_type": "code",
   "execution_count": 28,
   "metadata": {},
   "outputs": [
    {
     "data": {
      "text/plain": [
       "(28, 2)"
      ]
     },
     "execution_count": 28,
     "metadata": {},
     "output_type": "execute_result"
    }
   ],
   "source": [
    "feature_importances.shape"
   ]
  },
  {
   "cell_type": "code",
   "execution_count": 29,
   "metadata": {},
   "outputs": [],
   "source": [
    "feature_importances.reset_index(drop=True, inplace=True)"
   ]
  },
  {
   "cell_type": "code",
   "execution_count": 30,
   "metadata": {},
   "outputs": [
    {
     "data": {
      "text/html": [
       "<div>\n",
       "<style scoped>\n",
       "    .dataframe tbody tr th:only-of-type {\n",
       "        vertical-align: middle;\n",
       "    }\n",
       "\n",
       "    .dataframe tbody tr th {\n",
       "        vertical-align: top;\n",
       "    }\n",
       "\n",
       "    .dataframe thead th {\n",
       "        text-align: right;\n",
       "    }\n",
       "</style>\n",
       "<table border=\"1\" class=\"dataframe\">\n",
       "  <thead>\n",
       "    <tr style=\"text-align: right;\">\n",
       "      <th></th>\n",
       "      <th>features</th>\n",
       "      <th>importance</th>\n",
       "    </tr>\n",
       "  </thead>\n",
       "  <tbody>\n",
       "    <tr>\n",
       "      <th>0</th>\n",
       "      <td>melee_defence</td>\n",
       "      <td>2986</td>\n",
       "    </tr>\n",
       "    <tr>\n",
       "      <th>1</th>\n",
       "      <td>health</td>\n",
       "      <td>2887</td>\n",
       "    </tr>\n",
       "    <tr>\n",
       "      <th>2</th>\n",
       "      <td>melee_attack</td>\n",
       "      <td>2683</td>\n",
       "    </tr>\n",
       "    <tr>\n",
       "      <th>3</th>\n",
       "      <td>leadership</td>\n",
       "      <td>2540</td>\n",
       "    </tr>\n",
       "    <tr>\n",
       "      <th>4</th>\n",
       "      <td>armour</td>\n",
       "      <td>1698</td>\n",
       "    </tr>\n",
       "    <tr>\n",
       "      <th>5</th>\n",
       "      <td>health_per_entity</td>\n",
       "      <td>1694</td>\n",
       "    </tr>\n",
       "    <tr>\n",
       "      <th>6</th>\n",
       "      <td>run_speed</td>\n",
       "      <td>1562</td>\n",
       "    </tr>\n",
       "    <tr>\n",
       "      <th>7</th>\n",
       "      <td>missile_primary__damage</td>\n",
       "      <td>1560</td>\n",
       "    </tr>\n",
       "    <tr>\n",
       "      <th>8</th>\n",
       "      <td>charge_bonus</td>\n",
       "      <td>1552</td>\n",
       "    </tr>\n",
       "    <tr>\n",
       "      <th>9</th>\n",
       "      <td>melee__ap_ratio</td>\n",
       "      <td>1330</td>\n",
       "    </tr>\n",
       "    <tr>\n",
       "      <th>10</th>\n",
       "      <td>melee__base_damage</td>\n",
       "      <td>1304</td>\n",
       "    </tr>\n",
       "    <tr>\n",
       "      <th>11</th>\n",
       "      <td>mass</td>\n",
       "      <td>1106</td>\n",
       "    </tr>\n",
       "    <tr>\n",
       "      <th>12</th>\n",
       "      <td>melee__damage</td>\n",
       "      <td>891</td>\n",
       "    </tr>\n",
       "    <tr>\n",
       "      <th>13</th>\n",
       "      <td>height</td>\n",
       "      <td>797</td>\n",
       "    </tr>\n",
       "    <tr>\n",
       "      <th>14</th>\n",
       "      <td>melee__melee_attack_interval</td>\n",
       "      <td>760</td>\n",
       "    </tr>\n",
       "    <tr>\n",
       "      <th>15</th>\n",
       "      <td>acceleration</td>\n",
       "      <td>664</td>\n",
       "    </tr>\n",
       "    <tr>\n",
       "      <th>16</th>\n",
       "      <td>melee__bonus_v_large</td>\n",
       "      <td>372</td>\n",
       "    </tr>\n",
       "    <tr>\n",
       "      <th>17</th>\n",
       "      <td>melee__bonus_v_infantry</td>\n",
       "      <td>278</td>\n",
       "    </tr>\n",
       "    <tr>\n",
       "      <th>18</th>\n",
       "      <td>melee__splash_attack_max_attacks</td>\n",
       "      <td>275</td>\n",
       "    </tr>\n",
       "    <tr>\n",
       "      <th>19</th>\n",
       "      <td>parry_chance</td>\n",
       "      <td>250</td>\n",
       "    </tr>\n",
       "    <tr>\n",
       "      <th>20</th>\n",
       "      <td>reload</td>\n",
       "      <td>219</td>\n",
       "    </tr>\n",
       "    <tr>\n",
       "      <th>21</th>\n",
       "      <td>hit_reactions_ignore_chance</td>\n",
       "      <td>189</td>\n",
       "    </tr>\n",
       "    <tr>\n",
       "      <th>22</th>\n",
       "      <td>melee__weapon_length</td>\n",
       "      <td>180</td>\n",
       "    </tr>\n",
       "    <tr>\n",
       "      <th>23</th>\n",
       "      <td>damage_mod_physical</td>\n",
       "      <td>137</td>\n",
       "    </tr>\n",
       "    <tr>\n",
       "      <th>24</th>\n",
       "      <td>accuracy</td>\n",
       "      <td>134</td>\n",
       "    </tr>\n",
       "    <tr>\n",
       "      <th>25</th>\n",
       "      <td>combat_reaction_radius</td>\n",
       "      <td>117</td>\n",
       "    </tr>\n",
       "    <tr>\n",
       "      <th>26</th>\n",
       "      <td>fly_speed</td>\n",
       "      <td>110</td>\n",
       "    </tr>\n",
       "    <tr>\n",
       "      <th>27</th>\n",
       "      <td>melee__splash_attack_power_multiplier</td>\n",
       "      <td>106</td>\n",
       "    </tr>\n",
       "  </tbody>\n",
       "</table>\n",
       "</div>"
      ],
      "text/plain": [
       "                                 features  importance\n",
       "0                           melee_defence        2986\n",
       "1                                  health        2887\n",
       "2                            melee_attack        2683\n",
       "3                              leadership        2540\n",
       "4                                  armour        1698\n",
       "5                       health_per_entity        1694\n",
       "6                               run_speed        1562\n",
       "7                 missile_primary__damage        1560\n",
       "8                            charge_bonus        1552\n",
       "9                         melee__ap_ratio        1330\n",
       "10                     melee__base_damage        1304\n",
       "11                                   mass        1106\n",
       "12                          melee__damage         891\n",
       "13                                 height         797\n",
       "14           melee__melee_attack_interval         760\n",
       "15                           acceleration         664\n",
       "16                   melee__bonus_v_large         372\n",
       "17                melee__bonus_v_infantry         278\n",
       "18       melee__splash_attack_max_attacks         275\n",
       "19                           parry_chance         250\n",
       "20                                 reload         219\n",
       "21            hit_reactions_ignore_chance         189\n",
       "22                   melee__weapon_length         180\n",
       "23                    damage_mod_physical         137\n",
       "24                               accuracy         134\n",
       "25                 combat_reaction_radius         117\n",
       "26                              fly_speed         110\n",
       "27  melee__splash_attack_power_multiplier         106"
      ]
     },
     "execution_count": 30,
     "metadata": {},
     "output_type": "execute_result"
    }
   ],
   "source": [
    "feature_importances"
   ]
  },
  {
   "cell_type": "code",
   "execution_count": 38,
   "metadata": {},
   "outputs": [],
   "source": [
    "corrs = df.loc[:, feature_importances.features].corr(method='spearman')"
   ]
  },
  {
   "cell_type": "code",
   "execution_count": 39,
   "metadata": {},
   "outputs": [
    {
     "data": {
      "text/plain": [
       "(28, 28)"
      ]
     },
     "execution_count": 39,
     "metadata": {},
     "output_type": "execute_result"
    }
   ],
   "source": [
    "corrs.shape"
   ]
  },
  {
   "cell_type": "code",
   "execution_count": 40,
   "metadata": {},
   "outputs": [],
   "source": [
    "corrs = corrs - np.eye(corrs.shape[0])"
   ]
  },
  {
   "cell_type": "code",
   "execution_count": 41,
   "metadata": {},
   "outputs": [],
   "source": [
    "corrs = np.abs(corrs)"
   ]
  },
  {
   "cell_type": "code",
   "execution_count": 42,
   "metadata": {},
   "outputs": [
    {
     "data": {
      "text/plain": [
       "0.9060622479580703"
      ]
     },
     "execution_count": 42,
     "metadata": {},
     "output_type": "execute_result"
    }
   ],
   "source": [
    "corrs.max().max()"
   ]
  },
  {
   "cell_type": "code",
   "execution_count": 43,
   "metadata": {},
   "outputs": [
    {
     "data": {
      "text/plain": [
       "damage_mod_physical                      0.192012\n",
       "parry_chance                             0.316171\n",
       "melee__bonus_v_large                     0.340012\n",
       "melee__splash_attack_power_multiplier    0.344156\n",
       "melee__bonus_v_infantry                  0.348457\n",
       "fly_speed                                0.389313\n",
       "health                                   0.435953\n",
       "accuracy                                 0.450800\n",
       "armour                                   0.484898\n",
       "melee__melee_attack_interval             0.569929\n",
       "melee__splash_attack_max_attacks         0.574834\n",
       "leadership                               0.593331\n",
       "melee_defence                            0.621804\n",
       "melee__base_damage                       0.625686\n",
       "melee__ap_ratio                          0.688265\n",
       "charge_bonus                             0.697474\n",
       "melee_attack                             0.715890\n",
       "melee__damage                            0.715890\n",
       "melee__weapon_length                     0.717220\n",
       "height                                   0.742009\n",
       "hit_reactions_ignore_chance              0.747708\n",
       "combat_reaction_radius                   0.747708\n",
       "acceleration                             0.784668\n",
       "run_speed                                0.784668\n",
       "missile_primary__damage                  0.813104\n",
       "reload                                   0.813104\n",
       "mass                                     0.906062\n",
       "health_per_entity                        0.906062\n",
       "dtype: float64"
      ]
     },
     "execution_count": 43,
     "metadata": {},
     "output_type": "execute_result"
    }
   ],
   "source": [
    "corrs.max().sort_values()"
   ]
  },
  {
   "cell_type": "code",
   "execution_count": 68,
   "metadata": {},
   "outputs": [
    {
     "ename": "NameError",
     "evalue": "name 'feature_importances' is not defined",
     "output_type": "error",
     "traceback": [
      "\u001b[0;31m---------------------------------------------------------------------------\u001b[0m",
      "\u001b[0;31mNameError\u001b[0m                                 Traceback (most recent call last)",
      "\u001b[0;32m<ipython-input-68-5960c8796973>\u001b[0m in \u001b[0;36m<module>\u001b[0;34m\u001b[0m\n\u001b[0;32m----> 1\u001b[0;31m \u001b[0mfeatures\u001b[0m \u001b[0;34m=\u001b[0m \u001b[0mlist\u001b[0m\u001b[0;34m(\u001b[0m\u001b[0mfeature_importances\u001b[0m\u001b[0;34m.\u001b[0m\u001b[0mfeatures\u001b[0m\u001b[0;34m.\u001b[0m\u001b[0mvalues\u001b[0m\u001b[0;34m)\u001b[0m\u001b[0;34m\u001b[0m\u001b[0;34m\u001b[0m\u001b[0m\n\u001b[0m",
      "\u001b[0;31mNameError\u001b[0m: name 'feature_importances' is not defined"
     ]
    }
   ],
   "source": [
    "features = list(feature_importances.features.values)"
   ]
  },
  {
   "cell_type": "code",
   "execution_count": 69,
   "metadata": {},
   "outputs": [],
   "source": [
    "model = make_pipeline(\n",
    "    Selector(features),\n",
    "    LGBMRegressor(objective='mae')\n",
    ")"
   ]
  },
  {
   "cell_type": "code",
   "execution_count": 48,
   "metadata": {},
   "outputs": [],
   "source": [
    "def objective(trial):    \n",
    "        \n",
    "    lgbmregressor__num_leaves = trial.suggest_int('lgbmregressor__num_leaves', 2, 500) \n",
    "    lgbmregressor__max_depth = trial.suggest_int('lgbmregressor__max_depth', 2, 150) \n",
    "    lgbmregressor__n_estimators = trial.suggest_int('lgbmregressor__n_estimators', 10, 500) \n",
    "    lgbmregressor__subsample_for_bin = trial.suggest_int('lgbmregressor__subsample_for_bin', 2000, 500_000) \n",
    "    lgbmregressor__min_child_samples = trial.suggest_int('lgbmregressor__min_child_samples', 4, 500) \n",
    "    lgbmregressor__reg_alpha = trial.suggest_uniform('lgbmregressor__reg_alpha', 0.0, 1.0) \n",
    "    lgbmregressor__colsample_bytree = trial.suggest_uniform('lgbmregressor__colsample_bytree', 0.6, 1.0) \n",
    "    lgbmregressor__learning_rate = trial.suggest_loguniform('lgbmregressor__learning_rate', 1e-5, 1e-0)   \n",
    "    \n",
    "\n",
    "    params = {\n",
    "        'lgbmregressor__num_leaves': lgbmregressor__num_leaves,\n",
    "        'lgbmregressor__max_depth': lgbmregressor__max_depth,\n",
    "        'lgbmregressor__n_estimators': lgbmregressor__n_estimators,\n",
    "        'lgbmregressor__subsample_for_bin': lgbmregressor__subsample_for_bin,\n",
    "        'lgbmregressor__min_child_samples': lgbmregressor__min_child_samples,\n",
    "        'lgbmregressor__reg_alpha': lgbmregressor__reg_alpha,\n",
    "        'lgbmregressor__colsample_bytree': lgbmregressor__colsample_bytree,\n",
    "        'lgbmregressor__learning_rate': lgbmregressor__learning_rate\n",
    "    }\n",
    "    \n",
    "    model.set_params(**params)\n",
    "    \n",
    "    cv = KFold(n_splits=8)\n",
    "\n",
    "    return - np.mean(cross_val_score(model, x, y, cv=8, scoring='neg_median_absolute_error'))"
   ]
  },
  {
   "cell_type": "code",
   "execution_count": 65,
   "metadata": {},
   "outputs": [],
   "source": [
    "study = optuna.create_study()\n",
    "# study.optimize(objective, n_trials=500)"
   ]
  },
  {
   "cell_type": "code",
   "execution_count": 70,
   "metadata": {},
   "outputs": [],
   "source": [
    "features = [\"melee_defence\",\n",
    "\"health\",\n",
    "\"melee_attack\",\n",
    "\"leadership\",\n",
    "\"armour\",\n",
    "\"health_per_entity\",\n",
    "\"run_speed\",\n",
    "\"missile_primary__damage\",\n",
    "\"charge_bonus\",\n",
    "\"melee__ap_ratio\",\n",
    "\"melee__base_damage\",\n",
    "\"mass\",\n",
    "\"melee__damage\",\n",
    "\"height\",\n",
    "\"melee__melee_attack_interval\",\n",
    "\"acceleration\",\n",
    "\"melee__bonus_v_large\",\n",
    "\"melee__bonus_v_infantry\",\n",
    "\"melee__splash_attack_max_attacks\",\n",
    "\"parry_chance\",\n",
    "\"reload\",\n",
    "\"hit_reactions_ignore_chance\",\n",
    "\"melee__weapon_length\",\n",
    "\"damage_mod_physical\",\n",
    "\"accuracy\",\n",
    "\"combat_reaction_radius\",\n",
    "\"fly_speed\",\n",
    "\"melee__splash_attack_power_multiplier\"]"
   ]
  },
  {
   "cell_type": "code",
   "execution_count": 71,
   "metadata": {},
   "outputs": [],
   "source": [
    "model = make_pipeline(\n",
    "    Selector(features),\n",
    "    LGBMRegressor(objective='mae')\n",
    ")"
   ]
  },
  {
   "cell_type": "code",
   "execution_count": 72,
   "metadata": {},
   "outputs": [],
   "source": [
    "best_params = {'lgbmregressor__num_leaves': 434,\n",
    " 'lgbmregressor__max_depth': 110,\n",
    " 'lgbmregressor__n_estimators': 256,\n",
    " 'lgbmregressor__subsample_for_bin': 82449,\n",
    " 'lgbmregressor__min_child_samples': 4,\n",
    " 'lgbmregressor__reg_alpha': 0.14126751650012037,\n",
    " 'lgbmregressor__colsample_bytree': 0.7745213812855362,\n",
    " 'lgbmregressor__learning_rate': 0.04242070860113767}"
   ]
  },
  {
   "cell_type": "code",
   "execution_count": 73,
   "metadata": {},
   "outputs": [
    {
     "data": {
      "text/plain": [
       "Pipeline(steps=[('selector',\n",
       "                 <twws.select_variables.Selector object at 0x1354e4cd0>),\n",
       "                ('lgbmregressor',\n",
       "                 LGBMRegressor(colsample_bytree=0.7745213812855362,\n",
       "                               learning_rate=0.04242070860113767, max_depth=110,\n",
       "                               min_child_samples=4, n_estimators=256,\n",
       "                               num_leaves=434, objective='mae',\n",
       "                               reg_alpha=0.14126751650012037,\n",
       "                               subsample_for_bin=82449))])"
      ]
     },
     "execution_count": 73,
     "metadata": {},
     "output_type": "execute_result"
    }
   ],
   "source": [
    "model.set_params(**best_params)"
   ]
  },
  {
   "cell_type": "code",
   "execution_count": 74,
   "metadata": {},
   "outputs": [
    {
     "data": {
      "text/plain": [
       "Pipeline(steps=[('selector',\n",
       "                 <twws.select_variables.Selector object at 0x1354e4cd0>),\n",
       "                ('lgbmregressor',\n",
       "                 LGBMRegressor(colsample_bytree=0.7745213812855362,\n",
       "                               learning_rate=0.04242070860113767, max_depth=110,\n",
       "                               min_child_samples=4, n_estimators=256,\n",
       "                               num_leaves=434, objective='mae',\n",
       "                               reg_alpha=0.14126751650012037,\n",
       "                               subsample_for_bin=82449))])"
      ]
     },
     "execution_count": 74,
     "metadata": {},
     "output_type": "execute_result"
    }
   ],
   "source": [
    "model.fit(x, y)"
   ]
  },
  {
   "cell_type": "code",
   "execution_count": 75,
   "metadata": {},
   "outputs": [],
   "source": [
    "yhat = model.predict(x)"
   ]
  },
  {
   "cell_type": "code",
   "execution_count": 76,
   "metadata": {},
   "outputs": [
    {
     "data": {
      "image/png": "[encoded data removed]",
      "text/plain": [
       "<Figure size 432x288 with 1 Axes>"
      ]
     },
     "metadata": {
      "needs_background": "light"
     },
     "output_type": "display_data"
    }
   ],
   "source": [
    "sns.regplot(y.apply(np.exp), np.exp(yhat), scatter=False)\n",
    "sns.scatterplot(y.apply(np.exp), np.exp(yhat), alpha=0.1);"
   ]
  },
  {
   "cell_type": "code",
   "execution_count": 96,
   "metadata": {},
   "outputs": [],
   "source": [
    "y = df.multiplayer_cost.apply(np.log)\n",
    "x = df.drop('multiplayer_cost', axis=1)\n",
    "\n",
    "x['yhat'] = np.exp(yhat)\n",
    "x['y'] = y.apply(np.exp)\n",
    "x['res'] =  x.yhat - x.y\n",
    "x['res_perc'] = x.yhat / x.y\n",
    "\n",
    "x.sort_values(by='res_perc', ascending=False, inplace=True)"
   ]
  },
  {
   "cell_type": "code",
   "execution_count": 98,
   "metadata": {},
   "outputs": [
    {
     "data": {
      "text/html": [
       "<div>\n",
       "<style scoped>\n",
       "    .dataframe tbody tr th:only-of-type {\n",
       "        vertical-align: middle;\n",
       "    }\n",
       "\n",
       "    .dataframe tbody tr th {\n",
       "        vertical-align: top;\n",
       "    }\n",
       "\n",
       "    .dataframe thead th {\n",
       "        text-align: right;\n",
       "    }\n",
       "</style>\n",
       "<table border=\"1\" class=\"dataframe\">\n",
       "  <thead>\n",
       "    <tr style=\"text-align: right;\">\n",
       "      <th></th>\n",
       "      <th>name</th>\n",
       "      <th>res</th>\n",
       "      <th>yhat</th>\n",
       "      <th>y</th>\n",
       "      <th>res_perc</th>\n",
       "    </tr>\n",
       "  </thead>\n",
       "  <tbody>\n",
       "    <tr>\n",
       "      <th>59</th>\n",
       "      <td>Bloated Corpse</td>\n",
       "      <td>514.370168</td>\n",
       "      <td>939.370168</td>\n",
       "      <td>425.0</td>\n",
       "      <td>2.210283</td>\n",
       "    </tr>\n",
       "    <tr>\n",
       "      <th>266</th>\n",
       "      <td>Zombies</td>\n",
       "      <td>89.498844</td>\n",
       "      <td>189.498844</td>\n",
       "      <td>100.0</td>\n",
       "      <td>1.894988</td>\n",
       "    </tr>\n",
       "    <tr>\n",
       "      <th>1210</th>\n",
       "      <td>Spider Hatchlings</td>\n",
       "      <td>131.129941</td>\n",
       "      <td>281.129941</td>\n",
       "      <td>150.0</td>\n",
       "      <td>1.874200</td>\n",
       "    </tr>\n",
       "    <tr>\n",
       "      <th>342</th>\n",
       "      <td>Peasant Mob</td>\n",
       "      <td>64.551674</td>\n",
       "      <td>164.551674</td>\n",
       "      <td>100.0</td>\n",
       "      <td>1.645517</td>\n",
       "    </tr>\n",
       "    <tr>\n",
       "      <th>276</th>\n",
       "      <td>Corpse Cart</td>\n",
       "      <td>158.240059</td>\n",
       "      <td>408.240059</td>\n",
       "      <td>250.0</td>\n",
       "      <td>1.632960</td>\n",
       "    </tr>\n",
       "    <tr>\n",
       "      <th>1029</th>\n",
       "      <td>Aspiring Champions</td>\n",
       "      <td>313.416831</td>\n",
       "      <td>863.416831</td>\n",
       "      <td>550.0</td>\n",
       "      <td>1.569849</td>\n",
       "    </tr>\n",
       "    <tr>\n",
       "      <th>896</th>\n",
       "      <td>Feral Cold Ones</td>\n",
       "      <td>197.277066</td>\n",
       "      <td>647.277066</td>\n",
       "      <td>450.0</td>\n",
       "      <td>1.438393</td>\n",
       "    </tr>\n",
       "    <tr>\n",
       "      <th>1139</th>\n",
       "      <td>Archers</td>\n",
       "      <td>124.976498</td>\n",
       "      <td>474.976498</td>\n",
       "      <td>350.0</td>\n",
       "      <td>1.357076</td>\n",
       "    </tr>\n",
       "    <tr>\n",
       "      <th>812</th>\n",
       "      <td>Poisoned Wind Globadiers</td>\n",
       "      <td>186.622199</td>\n",
       "      <td>736.622199</td>\n",
       "      <td>550.0</td>\n",
       "      <td>1.339313</td>\n",
       "    </tr>\n",
       "    <tr>\n",
       "      <th>1140</th>\n",
       "      <td>Deathjacks (Archers)</td>\n",
       "      <td>181.987086</td>\n",
       "      <td>731.987086</td>\n",
       "      <td>550.0</td>\n",
       "      <td>1.330886</td>\n",
       "    </tr>\n",
       "    <tr>\n",
       "      <th>814</th>\n",
       "      <td>Warpfire Throwers</td>\n",
       "      <td>164.271971</td>\n",
       "      <td>714.271971</td>\n",
       "      <td>550.0</td>\n",
       "      <td>1.298676</td>\n",
       "    </tr>\n",
       "    <tr>\n",
       "      <th>917</th>\n",
       "      <td>Feral Bastiladon</td>\n",
       "      <td>168.359533</td>\n",
       "      <td>818.359533</td>\n",
       "      <td>650.0</td>\n",
       "      <td>1.259015</td>\n",
       "    </tr>\n",
       "    <tr>\n",
       "      <th>966</th>\n",
       "      <td>Bolt Throwers</td>\n",
       "      <td>128.028098</td>\n",
       "      <td>678.028098</td>\n",
       "      <td>550.0</td>\n",
       "      <td>1.232778</td>\n",
       "    </tr>\n",
       "    <tr>\n",
       "      <th>47</th>\n",
       "      <td>Deck Droppers</td>\n",
       "      <td>102.004696</td>\n",
       "      <td>552.004696</td>\n",
       "      <td>450.0</td>\n",
       "      <td>1.226677</td>\n",
       "    </tr>\n",
       "    <tr>\n",
       "      <th>175</th>\n",
       "      <td>Carrion</td>\n",
       "      <td>89.964063</td>\n",
       "      <td>514.964063</td>\n",
       "      <td>425.0</td>\n",
       "      <td>1.211680</td>\n",
       "    </tr>\n",
       "    <tr>\n",
       "      <th>338</th>\n",
       "      <td>Grail Reliquae</td>\n",
       "      <td>103.488326</td>\n",
       "      <td>603.488326</td>\n",
       "      <td>500.0</td>\n",
       "      <td>1.206977</td>\n",
       "    </tr>\n",
       "    <tr>\n",
       "      <th>913</th>\n",
       "      <td>Terradon Riders</td>\n",
       "      <td>123.263648</td>\n",
       "      <td>723.263648</td>\n",
       "      <td>600.0</td>\n",
       "      <td>1.205439</td>\n",
       "    </tr>\n",
       "    <tr>\n",
       "      <th>527</th>\n",
       "      <td>Glade Guard</td>\n",
       "      <td>100.003931</td>\n",
       "      <td>600.003931</td>\n",
       "      <td>500.0</td>\n",
       "      <td>1.200008</td>\n",
       "    </tr>\n",
       "    <tr>\n",
       "      <th>1214</th>\n",
       "      <td>Night Goblins</td>\n",
       "      <td>74.419907</td>\n",
       "      <td>474.419907</td>\n",
       "      <td>400.0</td>\n",
       "      <td>1.186050</td>\n",
       "    </tr>\n",
       "    <tr>\n",
       "      <th>339</th>\n",
       "      <td>Men-at-Arms</td>\n",
       "      <td>45.796218</td>\n",
       "      <td>295.796218</td>\n",
       "      <td>250.0</td>\n",
       "      <td>1.183185</td>\n",
       "    </tr>\n",
       "  </tbody>\n",
       "</table>\n",
       "</div>"
      ],
      "text/plain": [
       "                          name         res        yhat      y  res_perc\n",
       "59              Bloated Corpse  514.370168  939.370168  425.0  2.210283\n",
       "266                    Zombies   89.498844  189.498844  100.0  1.894988\n",
       "1210         Spider Hatchlings  131.129941  281.129941  150.0  1.874200\n",
       "342                Peasant Mob   64.551674  164.551674  100.0  1.645517\n",
       "276                Corpse Cart  158.240059  408.240059  250.0  1.632960\n",
       "1029        Aspiring Champions  313.416831  863.416831  550.0  1.569849\n",
       "896            Feral Cold Ones  197.277066  647.277066  450.0  1.438393\n",
       "1139                   Archers  124.976498  474.976498  350.0  1.357076\n",
       "812   Poisoned Wind Globadiers  186.622199  736.622199  550.0  1.339313\n",
       "1140      Deathjacks (Archers)  181.987086  731.987086  550.0  1.330886\n",
       "814          Warpfire Throwers  164.271971  714.271971  550.0  1.298676\n",
       "917           Feral Bastiladon  168.359533  818.359533  650.0  1.259015\n",
       "966              Bolt Throwers  128.028098  678.028098  550.0  1.232778\n",
       "47               Deck Droppers  102.004696  552.004696  450.0  1.226677\n",
       "175                    Carrion   89.964063  514.964063  425.0  1.211680\n",
       "338             Grail Reliquae  103.488326  603.488326  500.0  1.206977\n",
       "913            Terradon Riders  123.263648  723.263648  600.0  1.205439\n",
       "527                Glade Guard  100.003931  600.003931  500.0  1.200008\n",
       "1214             Night Goblins   74.419907  474.419907  400.0  1.186050\n",
       "339                Men-at-Arms   45.796218  295.796218  250.0  1.183185"
      ]
     },
     "execution_count": 98,
     "metadata": {},
     "output_type": "execute_result"
    }
   ],
   "source": [
    "x.iloc[:20, -5:]"
   ]
  }
 ],
 "metadata": {
  "kernelspec": {
   "display_name": "Python 3",
   "language": "python",
   "name": "python3"
  },
  "language_info": {
   "codemirror_mode": {
    "name": "ipython",
    "version": 3
   },
   "file_extension": ".py",
   "mimetype": "text/x-python",
   "name": "python",
   "nbconvert_exporter": "python",
   "pygments_lexer": "ipython3",
   "version": "3.8.5"
  }
 },
 "nbformat": 4,
 "nbformat_minor": 4
}
